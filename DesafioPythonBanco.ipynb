{
  "nbformat": 4,
  "nbformat_minor": 0,
  "metadata": {
    "colab": {
      "provenance": [],
      "authorship_tag": "ABX9TyN+51cI4bvJcWfjkcoX3H1l",
      "include_colab_link": true
    },
    "kernelspec": {
      "name": "python3",
      "display_name": "Python 3"
    },
    "language_info": {
      "name": "python"
    }
  },
  "cells": [
    {
      "cell_type": "markdown",
      "metadata": {
        "id": "view-in-github",
        "colab_type": "text"
      },
      "source": [
        "<a href=\"https://colab.research.google.com/github/jeanmichael1993/DesafioPythonBank/blob/master/DesafioPythonBanco.ipynb\" target=\"_parent\"><img src=\"https://colab.research.google.com/assets/colab-badge.svg\" alt=\"Open In Colab\"/></a>"
      ]
    },
    {
      "cell_type": "code",
      "execution_count": null,
      "metadata": {
        "colab": {
          "base_uri": "https://localhost:8080/"
        },
        "id": "ljzp_MEMwZem",
        "outputId": "9e215ee8-6144-4aba-f943-85e86c484aae"
      },
      "outputs": [
        {
          "name": "stdout",
          "output_type": "stream",
          "text": [
            "\n",
            "[d] Depositar\n",
            "[s] Sacar\n",
            "[e] Extrato\n",
            "[q] Sair\n",
            "d\n",
            "Informe o valor do depósito: -199\n",
            "Valor inválido\n",
            "\n",
            "[d] Depositar\n",
            "[s] Sacar\n",
            "[e] Extrato\n",
            "[q] Sair\n",
            "q\n"
          ]
        }
      ],
      "source": [
        "conta_bancaria = 0\n",
        "saques_limite = 3\n",
        "valor_limite_saque = 500\n",
        "saques_realizados = 0\n",
        "lista_saque_deposito = []\n",
        "\n",
        "def deposito(valor: float ):\n",
        "  global conta_bancaria, lista_saque_deposito\n",
        "  if valor <= 0:\n",
        "    return \"Valor inválido\"\n",
        "  lista_saque_deposito.append(\"+\"+str(valor))\n",
        "  conta_bancaria += valor\n",
        "\n",
        "def saque(valor: float):\n",
        "  global conta_bancaria, saques_realizados, valor_limite_saque, saques_limite\n",
        "  if valor > valor_limite_saque:\n",
        "    return \"Valor acima do limite\"\n",
        "  if saques_realizados < saques_limite:\n",
        "    if conta_bancaria >= valor:\n",
        "      conta_bancaria -= valor\n",
        "      lista_saque_deposito.append(\"-\"+str(valor))\n",
        "      saques_realizados += 1\n",
        "      return \"Saque realizado com sucesso\"\n",
        "    else:\n",
        "      return \"Saldo insuficiente\"\n",
        "  else:\n",
        "    return \"Limite de saques atingido\"\n",
        "\n",
        "\n",
        "def extrato():\n",
        "  global conta_bancaria, lista_saque_deposito\n",
        "  print(\"Extrato:\")\n",
        "  for i in lista_saque_deposito:\n",
        "    print(i)\n",
        "  return print(f\"Seu saldo é de R${conta_bancaria :.2f}\")\n",
        "\n",
        "\n",
        "\n",
        "menu = \"\"\"\n",
        "[d] Depositar\n",
        "[s] Sacar\n",
        "[e] Extrato\n",
        "[q] Sair\n",
        "\"\"\"\n",
        "\n",
        "while True:\n",
        "  opcao = input(menu)\n",
        "\n",
        "  if opcao == \"d\":\n",
        "    valor = float(input(\"Informe o valor do depósito: \"))\n",
        "    print(deposito(valor))\n",
        "\n",
        "  elif opcao == \"s\":\n",
        "    valor = float(input(\"Informe o valor do saque: \"))\n",
        "    print(saque(valor))\n",
        "\n",
        "  elif opcao == \"e\":\n",
        "    extrato()\n",
        "\n",
        "  elif opcao == \"q\":\n",
        "    break\n",
        "\n",
        "  else:\n",
        "    print(\"Operação inválida, por favor selecione novamente a operação desejada.\")\n"
      ]
    }
  ]
}